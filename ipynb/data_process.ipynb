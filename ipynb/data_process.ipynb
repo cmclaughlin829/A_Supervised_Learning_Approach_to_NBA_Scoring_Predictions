{
 "cells": [
  {
   "cell_type": "code",
   "execution_count": 48,
   "metadata": {
    "collapsed": true
   },
   "outputs": [],
   "source": [
    "import pandas as pd\n",
    "import numpy as np\n",
    "import pickle"
   ]
  },
  {
   "cell_type": "markdown",
   "metadata": {},
   "source": [
    "### Import data"
   ]
  },
  {
   "cell_type": "code",
   "execution_count": 49,
   "metadata": {
    "collapsed": true
   },
   "outputs": [],
   "source": [
    "nba = pd.read_csv('../data/gamelogs_advanced.csv', index_col=0)\n",
    "nba.date_game = pd.to_datetime(nba.date_game,infer_datetime_format=True)"
   ]
  },
  {
   "cell_type": "markdown",
   "metadata": {},
   "source": [
    "### Change win loss to numeric"
   ]
  },
  {
   "cell_type": "code",
   "execution_count": 51,
   "metadata": {
    "collapsed": true
   },
   "outputs": [],
   "source": [
    "nba['w_l'] = np.where(nba['game_result'] == 'W', 1, 0)"
   ]
  },
  {
   "cell_type": "markdown",
   "metadata": {
    "collapsed": true
   },
   "source": [
    "### Sort by season and team and create expanding mean columns"
   ]
  },
  {
   "cell_type": "code",
   "execution_count": 52,
   "metadata": {
    "collapsed": true
   },
   "outputs": [],
   "source": [
    "teams = nba.sort_values(['season', 'team'], ascending=[True, True])"
   ]
  },
  {
   "cell_type": "code",
   "execution_count": 53,
   "metadata": {
    "collapsed": true
   },
   "outputs": [],
   "source": [
    "unwanted_columns = ['team', 'season', 'game_season', 'date_game', 'game_location',\n",
    "                    'opp_id', 'game_result']\n",
    "\n",
    "columns_to_mean = [column for column in list(nba.columns) if column not in unwanted_columns]"
   ]
  },
  {
   "cell_type": "code",
   "execution_count": 55,
   "metadata": {
    "collapsed": true
   },
   "outputs": [],
   "source": [
    "def mean_expansion(df, column_list):\n",
    "    for column in column_list:\n",
    "        df[column+'_mean']=df.groupby(['season', 'team'])[column].transform(lambda x: x.expanding().mean().shift(1))\n",
    "    return df\n",
    "\n",
    "means = mean_expansion(teams, columns_to_mean)"
   ]
  },
  {
   "cell_type": "code",
   "execution_count": 57,
   "metadata": {
    "collapsed": true
   },
   "outputs": [],
   "source": [
    "filename = '../data/cleaned_stats.sav'\n",
    "pickle.dump(means, open(filename, 'wb'))"
   ]
  },
  {
   "cell_type": "markdown",
   "metadata": {},
   "source": [
    "### Make new dataframe consisting of only columns to be merged with schedule"
   ]
  },
  {
   "cell_type": "code",
   "execution_count": 58,
   "metadata": {
    "collapsed": true
   },
   "outputs": [],
   "source": [
    "cols = list(means.columns.values)\n",
    "new_cols = [cols[0]]+cols[2:4]+[cols[7]]+cols[58:]\n",
    "new_means = means[new_cols].copy()"
   ]
  },
  {
   "cell_type": "markdown",
   "metadata": {},
   "source": [
    "## Create League Schedule"
   ]
  },
  {
   "cell_type": "code",
   "execution_count": 59,
   "metadata": {
    "collapsed": true
   },
   "outputs": [],
   "source": [
    "schedule = nba[['date_game', 'team', 'season', 'game_location', \n",
    "                'opp_id']].sort_values(by='date_game').reset_index(drop=True)"
   ]
  },
  {
   "cell_type": "code",
   "execution_count": 61,
   "metadata": {
    "collapsed": true
   },
   "outputs": [],
   "source": [
    "schedule['home_team'] = np.where(schedule['game_location'] == '@', schedule['opp_id'], schedule['team'])\n",
    "schedule['away_team'] = np.where(schedule['game_location'] == '@', schedule['team'], schedule['opp_id'])"
   ]
  },
  {
   "cell_type": "code",
   "execution_count": 63,
   "metadata": {
    "collapsed": true
   },
   "outputs": [],
   "source": [
    "schedule.drop(['team', 'game_location', 'opp_id'], axis=1, inplace=True)"
   ]
  },
  {
   "cell_type": "code",
   "execution_count": 84,
   "metadata": {},
   "outputs": [
    {
     "data": {
      "text/html": [
       "<div>\n",
       "<style>\n",
       "    .dataframe thead tr:only-child th {\n",
       "        text-align: right;\n",
       "    }\n",
       "\n",
       "    .dataframe thead th {\n",
       "        text-align: left;\n",
       "    }\n",
       "\n",
       "    .dataframe tbody tr th {\n",
       "        vertical-align: top;\n",
       "    }\n",
       "</style>\n",
       "<table border=\"1\" class=\"dataframe\">\n",
       "  <thead>\n",
       "    <tr style=\"text-align: right;\">\n",
       "      <th></th>\n",
       "      <th>date_game</th>\n",
       "      <th>season</th>\n",
       "      <th>home_team</th>\n",
       "      <th>away_team</th>\n",
       "    </tr>\n",
       "  </thead>\n",
       "  <tbody>\n",
       "    <tr>\n",
       "      <th>0</th>\n",
       "      <td>2007-10-30</td>\n",
       "      <td>2008</td>\n",
       "      <td>LAL</td>\n",
       "      <td>HOU</td>\n",
       "    </tr>\n",
       "    <tr>\n",
       "      <th>1</th>\n",
       "      <td>2007-10-30</td>\n",
       "      <td>2008</td>\n",
       "      <td>LAL</td>\n",
       "      <td>HOU</td>\n",
       "    </tr>\n",
       "    <tr>\n",
       "      <th>2</th>\n",
       "      <td>2007-10-30</td>\n",
       "      <td>2008</td>\n",
       "      <td>GSW</td>\n",
       "      <td>UTA</td>\n",
       "    </tr>\n",
       "    <tr>\n",
       "      <th>3</th>\n",
       "      <td>2007-10-30</td>\n",
       "      <td>2008</td>\n",
       "      <td>GSW</td>\n",
       "      <td>UTA</td>\n",
       "    </tr>\n",
       "    <tr>\n",
       "      <th>4</th>\n",
       "      <td>2007-10-30</td>\n",
       "      <td>2008</td>\n",
       "      <td>SAS</td>\n",
       "      <td>POR</td>\n",
       "    </tr>\n",
       "  </tbody>\n",
       "</table>\n",
       "</div>"
      ],
      "text/plain": [
       "   date_game  season home_team away_team\n",
       "0 2007-10-30    2008       LAL       HOU\n",
       "1 2007-10-30    2008       LAL       HOU\n",
       "2 2007-10-30    2008       GSW       UTA\n",
       "3 2007-10-30    2008       GSW       UTA\n",
       "4 2007-10-30    2008       SAS       POR"
      ]
     },
     "execution_count": 84,
     "metadata": {},
     "output_type": "execute_result"
    }
   ],
   "source": [
    "schedule.head()"
   ]
  },
  {
   "cell_type": "code",
   "execution_count": 66,
   "metadata": {
    "collapsed": true
   },
   "outputs": [],
   "source": [
    "schedule_new = schedule.drop_duplicates()"
   ]
  },
  {
   "cell_type": "code",
   "execution_count": 67,
   "metadata": {},
   "outputs": [
    {
     "data": {
      "text/html": [
       "<div>\n",
       "<style>\n",
       "    .dataframe thead tr:only-child th {\n",
       "        text-align: right;\n",
       "    }\n",
       "\n",
       "    .dataframe thead th {\n",
       "        text-align: left;\n",
       "    }\n",
       "\n",
       "    .dataframe tbody tr th {\n",
       "        vertical-align: top;\n",
       "    }\n",
       "</style>\n",
       "<table border=\"1\" class=\"dataframe\">\n",
       "  <thead>\n",
       "    <tr style=\"text-align: right;\">\n",
       "      <th></th>\n",
       "      <th>date_game</th>\n",
       "      <th>season</th>\n",
       "      <th>home_team</th>\n",
       "      <th>away_team</th>\n",
       "    </tr>\n",
       "  </thead>\n",
       "  <tbody>\n",
       "    <tr>\n",
       "      <th>0</th>\n",
       "      <td>2007-10-30</td>\n",
       "      <td>2008</td>\n",
       "      <td>LAL</td>\n",
       "      <td>HOU</td>\n",
       "    </tr>\n",
       "    <tr>\n",
       "      <th>2</th>\n",
       "      <td>2007-10-30</td>\n",
       "      <td>2008</td>\n",
       "      <td>GSW</td>\n",
       "      <td>UTA</td>\n",
       "    </tr>\n",
       "    <tr>\n",
       "      <th>4</th>\n",
       "      <td>2007-10-30</td>\n",
       "      <td>2008</td>\n",
       "      <td>SAS</td>\n",
       "      <td>POR</td>\n",
       "    </tr>\n",
       "    <tr>\n",
       "      <th>6</th>\n",
       "      <td>2007-10-31</td>\n",
       "      <td>2008</td>\n",
       "      <td>ORL</td>\n",
       "      <td>MIL</td>\n",
       "    </tr>\n",
       "    <tr>\n",
       "      <th>7</th>\n",
       "      <td>2007-10-31</td>\n",
       "      <td>2008</td>\n",
       "      <td>MEM</td>\n",
       "      <td>SAS</td>\n",
       "    </tr>\n",
       "  </tbody>\n",
       "</table>\n",
       "</div>"
      ],
      "text/plain": [
       "   date_game  season home_team away_team\n",
       "0 2007-10-30    2008       LAL       HOU\n",
       "2 2007-10-30    2008       GSW       UTA\n",
       "4 2007-10-30    2008       SAS       POR\n",
       "6 2007-10-31    2008       ORL       MIL\n",
       "7 2007-10-31    2008       MEM       SAS"
      ]
     },
     "execution_count": 67,
     "metadata": {},
     "output_type": "execute_result"
    }
   ],
   "source": [
    "schedule_new.head()"
   ]
  },
  {
   "cell_type": "code",
   "execution_count": 68,
   "metadata": {
    "collapsed": true
   },
   "outputs": [],
   "source": [
    "filename = '../data/schedules.sav'\n",
    "pickle.dump(schedule_new, open(filename, 'wb'))"
   ]
  },
  {
   "cell_type": "markdown",
   "metadata": {
    "collapsed": true
   },
   "source": [
    "### Merge dataframes for model construction"
   ]
  },
  {
   "cell_type": "code",
   "execution_count": 69,
   "metadata": {
    "collapsed": true
   },
   "outputs": [],
   "source": [
    "data = schedule_new.merge(new_means, left_on=['home_team', 'date_game'], right_on=['team', 'date_game'])"
   ]
  },
  {
   "cell_type": "code",
   "execution_count": 70,
   "metadata": {
    "collapsed": true
   },
   "outputs": [],
   "source": [
    "home_column_name_dict = {column:'home_'+column for column in new_cols}\n",
    "data = data.rename(columns = home_column_name_dict)"
   ]
  },
  {
   "cell_type": "code",
   "execution_count": 73,
   "metadata": {},
   "outputs": [
    {
     "data": {
      "text/html": [
       "<div>\n",
       "<style>\n",
       "    .dataframe thead tr:only-child th {\n",
       "        text-align: right;\n",
       "    }\n",
       "\n",
       "    .dataframe thead th {\n",
       "        text-align: left;\n",
       "    }\n",
       "\n",
       "    .dataframe tbody tr th {\n",
       "        vertical-align: top;\n",
       "    }\n",
       "</style>\n",
       "<table border=\"1\" class=\"dataframe\">\n",
       "  <thead>\n",
       "    <tr style=\"text-align: right;\">\n",
       "      <th></th>\n",
       "      <th>home_date_game</th>\n",
       "      <th>season</th>\n",
       "      <th>home_team</th>\n",
       "      <th>away_team</th>\n",
       "      <th>home_team</th>\n",
       "      <th>home_game_season</th>\n",
       "      <th>home_pts</th>\n",
       "      <th>home_pts_mean</th>\n",
       "      <th>home_opp_pts_mean</th>\n",
       "      <th>home_fg_mean</th>\n",
       "      <th>...</th>\n",
       "      <th>home_blk_pct_mean</th>\n",
       "      <th>home_efg_pct_mean</th>\n",
       "      <th>home_tov_pct_mean</th>\n",
       "      <th>home_orb_pct_mean</th>\n",
       "      <th>home_ft_rate_mean</th>\n",
       "      <th>home_opp_efg_pct_mean</th>\n",
       "      <th>home_opp_tov_pct_mean</th>\n",
       "      <th>home_drb_pct_mean</th>\n",
       "      <th>home_opp_ft_rate_mean</th>\n",
       "      <th>home_w_l_mean</th>\n",
       "    </tr>\n",
       "  </thead>\n",
       "  <tbody>\n",
       "    <tr>\n",
       "      <th>0</th>\n",
       "      <td>2007-10-30</td>\n",
       "      <td>2008</td>\n",
       "      <td>LAL</td>\n",
       "      <td>HOU</td>\n",
       "      <td>LAL</td>\n",
       "      <td>1</td>\n",
       "      <td>93</td>\n",
       "      <td>NaN</td>\n",
       "      <td>NaN</td>\n",
       "      <td>NaN</td>\n",
       "      <td>...</td>\n",
       "      <td>NaN</td>\n",
       "      <td>NaN</td>\n",
       "      <td>NaN</td>\n",
       "      <td>NaN</td>\n",
       "      <td>NaN</td>\n",
       "      <td>NaN</td>\n",
       "      <td>NaN</td>\n",
       "      <td>NaN</td>\n",
       "      <td>NaN</td>\n",
       "      <td>NaN</td>\n",
       "    </tr>\n",
       "    <tr>\n",
       "      <th>1</th>\n",
       "      <td>2007-10-30</td>\n",
       "      <td>2008</td>\n",
       "      <td>GSW</td>\n",
       "      <td>UTA</td>\n",
       "      <td>GSW</td>\n",
       "      <td>1</td>\n",
       "      <td>96</td>\n",
       "      <td>NaN</td>\n",
       "      <td>NaN</td>\n",
       "      <td>NaN</td>\n",
       "      <td>...</td>\n",
       "      <td>NaN</td>\n",
       "      <td>NaN</td>\n",
       "      <td>NaN</td>\n",
       "      <td>NaN</td>\n",
       "      <td>NaN</td>\n",
       "      <td>NaN</td>\n",
       "      <td>NaN</td>\n",
       "      <td>NaN</td>\n",
       "      <td>NaN</td>\n",
       "      <td>NaN</td>\n",
       "    </tr>\n",
       "    <tr>\n",
       "      <th>2</th>\n",
       "      <td>2007-10-30</td>\n",
       "      <td>2008</td>\n",
       "      <td>SAS</td>\n",
       "      <td>POR</td>\n",
       "      <td>SAS</td>\n",
       "      <td>1</td>\n",
       "      <td>106</td>\n",
       "      <td>NaN</td>\n",
       "      <td>NaN</td>\n",
       "      <td>NaN</td>\n",
       "      <td>...</td>\n",
       "      <td>NaN</td>\n",
       "      <td>NaN</td>\n",
       "      <td>NaN</td>\n",
       "      <td>NaN</td>\n",
       "      <td>NaN</td>\n",
       "      <td>NaN</td>\n",
       "      <td>NaN</td>\n",
       "      <td>NaN</td>\n",
       "      <td>NaN</td>\n",
       "      <td>NaN</td>\n",
       "    </tr>\n",
       "    <tr>\n",
       "      <th>3</th>\n",
       "      <td>2007-10-31</td>\n",
       "      <td>2008</td>\n",
       "      <td>ORL</td>\n",
       "      <td>MIL</td>\n",
       "      <td>ORL</td>\n",
       "      <td>1</td>\n",
       "      <td>102</td>\n",
       "      <td>NaN</td>\n",
       "      <td>NaN</td>\n",
       "      <td>NaN</td>\n",
       "      <td>...</td>\n",
       "      <td>NaN</td>\n",
       "      <td>NaN</td>\n",
       "      <td>NaN</td>\n",
       "      <td>NaN</td>\n",
       "      <td>NaN</td>\n",
       "      <td>NaN</td>\n",
       "      <td>NaN</td>\n",
       "      <td>NaN</td>\n",
       "      <td>NaN</td>\n",
       "      <td>NaN</td>\n",
       "    </tr>\n",
       "    <tr>\n",
       "      <th>4</th>\n",
       "      <td>2007-10-31</td>\n",
       "      <td>2008</td>\n",
       "      <td>MEM</td>\n",
       "      <td>SAS</td>\n",
       "      <td>MEM</td>\n",
       "      <td>1</td>\n",
       "      <td>101</td>\n",
       "      <td>NaN</td>\n",
       "      <td>NaN</td>\n",
       "      <td>NaN</td>\n",
       "      <td>...</td>\n",
       "      <td>NaN</td>\n",
       "      <td>NaN</td>\n",
       "      <td>NaN</td>\n",
       "      <td>NaN</td>\n",
       "      <td>NaN</td>\n",
       "      <td>NaN</td>\n",
       "      <td>NaN</td>\n",
       "      <td>NaN</td>\n",
       "      <td>NaN</td>\n",
       "      <td>NaN</td>\n",
       "    </tr>\n",
       "  </tbody>\n",
       "</table>\n",
       "<p>5 rows × 58 columns</p>\n",
       "</div>"
      ],
      "text/plain": [
       "  home_date_game  season home_team away_team home_team  home_game_season  \\\n",
       "0     2007-10-30    2008       LAL       HOU       LAL                 1   \n",
       "1     2007-10-30    2008       GSW       UTA       GSW                 1   \n",
       "2     2007-10-30    2008       SAS       POR       SAS                 1   \n",
       "3     2007-10-31    2008       ORL       MIL       ORL                 1   \n",
       "4     2007-10-31    2008       MEM       SAS       MEM                 1   \n",
       "\n",
       "   home_pts  home_pts_mean  home_opp_pts_mean  home_fg_mean      ...        \\\n",
       "0        93            NaN                NaN           NaN      ...         \n",
       "1        96            NaN                NaN           NaN      ...         \n",
       "2       106            NaN                NaN           NaN      ...         \n",
       "3       102            NaN                NaN           NaN      ...         \n",
       "4       101            NaN                NaN           NaN      ...         \n",
       "\n",
       "   home_blk_pct_mean  home_efg_pct_mean  home_tov_pct_mean  home_orb_pct_mean  \\\n",
       "0                NaN                NaN                NaN                NaN   \n",
       "1                NaN                NaN                NaN                NaN   \n",
       "2                NaN                NaN                NaN                NaN   \n",
       "3                NaN                NaN                NaN                NaN   \n",
       "4                NaN                NaN                NaN                NaN   \n",
       "\n",
       "   home_ft_rate_mean  home_opp_efg_pct_mean  home_opp_tov_pct_mean  \\\n",
       "0                NaN                    NaN                    NaN   \n",
       "1                NaN                    NaN                    NaN   \n",
       "2                NaN                    NaN                    NaN   \n",
       "3                NaN                    NaN                    NaN   \n",
       "4                NaN                    NaN                    NaN   \n",
       "\n",
       "   home_drb_pct_mean  home_opp_ft_rate_mean  home_w_l_mean  \n",
       "0                NaN                    NaN            NaN  \n",
       "1                NaN                    NaN            NaN  \n",
       "2                NaN                    NaN            NaN  \n",
       "3                NaN                    NaN            NaN  \n",
       "4                NaN                    NaN            NaN  \n",
       "\n",
       "[5 rows x 58 columns]"
      ]
     },
     "execution_count": 73,
     "metadata": {},
     "output_type": "execute_result"
    }
   ],
   "source": [
    "data.head()"
   ]
  },
  {
   "cell_type": "code",
   "execution_count": 74,
   "metadata": {
    "collapsed": true
   },
   "outputs": [],
   "source": [
    "data = data.merge(new_means, left_on=['away_team', 'home_date_game'], right_on=['team', 'date_game'])"
   ]
  },
  {
   "cell_type": "code",
   "execution_count": 76,
   "metadata": {
    "collapsed": true
   },
   "outputs": [],
   "source": [
    "away_column_name_dict = {column:'away_'+column for column in new_cols}\n",
    "data=data.rename(columns = away_column_name_dict)"
   ]
  },
  {
   "cell_type": "code",
   "execution_count": 78,
   "metadata": {
    "collapsed": true
   },
   "outputs": [],
   "source": [
    "data=data.rename(columns = {'home_date_game':'date_game'})"
   ]
  },
  {
   "cell_type": "code",
   "execution_count": 79,
   "metadata": {},
   "outputs": [
    {
     "data": {
      "text/html": [
       "<div>\n",
       "<style>\n",
       "    .dataframe thead tr:only-child th {\n",
       "        text-align: right;\n",
       "    }\n",
       "\n",
       "    .dataframe thead th {\n",
       "        text-align: left;\n",
       "    }\n",
       "\n",
       "    .dataframe tbody tr th {\n",
       "        vertical-align: top;\n",
       "    }\n",
       "</style>\n",
       "<table border=\"1\" class=\"dataframe\">\n",
       "  <thead>\n",
       "    <tr style=\"text-align: right;\">\n",
       "      <th></th>\n",
       "      <th>date_game</th>\n",
       "      <th>season</th>\n",
       "      <th>home_team</th>\n",
       "      <th>away_team</th>\n",
       "      <th>home_team</th>\n",
       "      <th>home_game_season</th>\n",
       "      <th>home_pts</th>\n",
       "      <th>home_pts_mean</th>\n",
       "      <th>home_opp_pts_mean</th>\n",
       "      <th>home_fg_mean</th>\n",
       "      <th>...</th>\n",
       "      <th>away_blk_pct_mean</th>\n",
       "      <th>away_efg_pct_mean</th>\n",
       "      <th>away_tov_pct_mean</th>\n",
       "      <th>away_orb_pct_mean</th>\n",
       "      <th>away_ft_rate_mean</th>\n",
       "      <th>away_opp_efg_pct_mean</th>\n",
       "      <th>away_opp_tov_pct_mean</th>\n",
       "      <th>away_drb_pct_mean</th>\n",
       "      <th>away_opp_ft_rate_mean</th>\n",
       "      <th>away_w_l_mean</th>\n",
       "    </tr>\n",
       "  </thead>\n",
       "  <tbody>\n",
       "    <tr>\n",
       "      <th>0</th>\n",
       "      <td>2007-10-30</td>\n",
       "      <td>2008</td>\n",
       "      <td>LAL</td>\n",
       "      <td>HOU</td>\n",
       "      <td>LAL</td>\n",
       "      <td>1</td>\n",
       "      <td>93</td>\n",
       "      <td>NaN</td>\n",
       "      <td>NaN</td>\n",
       "      <td>NaN</td>\n",
       "      <td>...</td>\n",
       "      <td>NaN</td>\n",
       "      <td>NaN</td>\n",
       "      <td>NaN</td>\n",
       "      <td>NaN</td>\n",
       "      <td>NaN</td>\n",
       "      <td>NaN</td>\n",
       "      <td>NaN</td>\n",
       "      <td>NaN</td>\n",
       "      <td>NaN</td>\n",
       "      <td>NaN</td>\n",
       "    </tr>\n",
       "    <tr>\n",
       "      <th>1</th>\n",
       "      <td>2007-10-30</td>\n",
       "      <td>2008</td>\n",
       "      <td>GSW</td>\n",
       "      <td>UTA</td>\n",
       "      <td>GSW</td>\n",
       "      <td>1</td>\n",
       "      <td>96</td>\n",
       "      <td>NaN</td>\n",
       "      <td>NaN</td>\n",
       "      <td>NaN</td>\n",
       "      <td>...</td>\n",
       "      <td>NaN</td>\n",
       "      <td>NaN</td>\n",
       "      <td>NaN</td>\n",
       "      <td>NaN</td>\n",
       "      <td>NaN</td>\n",
       "      <td>NaN</td>\n",
       "      <td>NaN</td>\n",
       "      <td>NaN</td>\n",
       "      <td>NaN</td>\n",
       "      <td>NaN</td>\n",
       "    </tr>\n",
       "    <tr>\n",
       "      <th>2</th>\n",
       "      <td>2007-10-30</td>\n",
       "      <td>2008</td>\n",
       "      <td>SAS</td>\n",
       "      <td>POR</td>\n",
       "      <td>SAS</td>\n",
       "      <td>1</td>\n",
       "      <td>106</td>\n",
       "      <td>NaN</td>\n",
       "      <td>NaN</td>\n",
       "      <td>NaN</td>\n",
       "      <td>...</td>\n",
       "      <td>NaN</td>\n",
       "      <td>NaN</td>\n",
       "      <td>NaN</td>\n",
       "      <td>NaN</td>\n",
       "      <td>NaN</td>\n",
       "      <td>NaN</td>\n",
       "      <td>NaN</td>\n",
       "      <td>NaN</td>\n",
       "      <td>NaN</td>\n",
       "      <td>NaN</td>\n",
       "    </tr>\n",
       "    <tr>\n",
       "      <th>3</th>\n",
       "      <td>2007-10-31</td>\n",
       "      <td>2008</td>\n",
       "      <td>ORL</td>\n",
       "      <td>MIL</td>\n",
       "      <td>ORL</td>\n",
       "      <td>1</td>\n",
       "      <td>102</td>\n",
       "      <td>NaN</td>\n",
       "      <td>NaN</td>\n",
       "      <td>NaN</td>\n",
       "      <td>...</td>\n",
       "      <td>NaN</td>\n",
       "      <td>NaN</td>\n",
       "      <td>NaN</td>\n",
       "      <td>NaN</td>\n",
       "      <td>NaN</td>\n",
       "      <td>NaN</td>\n",
       "      <td>NaN</td>\n",
       "      <td>NaN</td>\n",
       "      <td>NaN</td>\n",
       "      <td>NaN</td>\n",
       "    </tr>\n",
       "    <tr>\n",
       "      <th>4</th>\n",
       "      <td>2007-10-31</td>\n",
       "      <td>2008</td>\n",
       "      <td>MEM</td>\n",
       "      <td>SAS</td>\n",
       "      <td>MEM</td>\n",
       "      <td>1</td>\n",
       "      <td>101</td>\n",
       "      <td>NaN</td>\n",
       "      <td>NaN</td>\n",
       "      <td>NaN</td>\n",
       "      <td>...</td>\n",
       "      <td>6.2</td>\n",
       "      <td>0.506</td>\n",
       "      <td>7.5</td>\n",
       "      <td>27.3</td>\n",
       "      <td>0.207</td>\n",
       "      <td>0.538</td>\n",
       "      <td>15.8</td>\n",
       "      <td>77.8</td>\n",
       "      <td>0.167</td>\n",
       "      <td>1.0</td>\n",
       "    </tr>\n",
       "  </tbody>\n",
       "</table>\n",
       "<p>5 rows × 113 columns</p>\n",
       "</div>"
      ],
      "text/plain": [
       "   date_game  season home_team away_team home_team  home_game_season  \\\n",
       "0 2007-10-30    2008       LAL       HOU       LAL                 1   \n",
       "1 2007-10-30    2008       GSW       UTA       GSW                 1   \n",
       "2 2007-10-30    2008       SAS       POR       SAS                 1   \n",
       "3 2007-10-31    2008       ORL       MIL       ORL                 1   \n",
       "4 2007-10-31    2008       MEM       SAS       MEM                 1   \n",
       "\n",
       "   home_pts  home_pts_mean  home_opp_pts_mean  home_fg_mean      ...        \\\n",
       "0        93            NaN                NaN           NaN      ...         \n",
       "1        96            NaN                NaN           NaN      ...         \n",
       "2       106            NaN                NaN           NaN      ...         \n",
       "3       102            NaN                NaN           NaN      ...         \n",
       "4       101            NaN                NaN           NaN      ...         \n",
       "\n",
       "   away_blk_pct_mean  away_efg_pct_mean  away_tov_pct_mean  away_orb_pct_mean  \\\n",
       "0                NaN                NaN                NaN                NaN   \n",
       "1                NaN                NaN                NaN                NaN   \n",
       "2                NaN                NaN                NaN                NaN   \n",
       "3                NaN                NaN                NaN                NaN   \n",
       "4                6.2              0.506                7.5               27.3   \n",
       "\n",
       "   away_ft_rate_mean  away_opp_efg_pct_mean  away_opp_tov_pct_mean  \\\n",
       "0                NaN                    NaN                    NaN   \n",
       "1                NaN                    NaN                    NaN   \n",
       "2                NaN                    NaN                    NaN   \n",
       "3                NaN                    NaN                    NaN   \n",
       "4              0.207                  0.538                   15.8   \n",
       "\n",
       "   away_drb_pct_mean  away_opp_ft_rate_mean  away_w_l_mean  \n",
       "0                NaN                    NaN            NaN  \n",
       "1                NaN                    NaN            NaN  \n",
       "2                NaN                    NaN            NaN  \n",
       "3                NaN                    NaN            NaN  \n",
       "4               77.8                  0.167            1.0  \n",
       "\n",
       "[5 rows x 113 columns]"
      ]
     },
     "execution_count": 79,
     "metadata": {},
     "output_type": "execute_result"
    }
   ],
   "source": [
    "data.head()"
   ]
  },
  {
   "cell_type": "code",
   "execution_count": 80,
   "metadata": {
    "collapsed": true
   },
   "outputs": [],
   "source": [
    "data = data.loc[:,~data.columns.duplicated()]"
   ]
  },
  {
   "cell_type": "code",
   "execution_count": 81,
   "metadata": {
    "collapsed": true
   },
   "outputs": [],
   "source": [
    "data['score_margin']=data['home_pts']-data['away_pts']"
   ]
  },
  {
   "cell_type": "code",
   "execution_count": 82,
   "metadata": {},
   "outputs": [
    {
     "data": {
      "text/html": [
       "<div>\n",
       "<style>\n",
       "    .dataframe thead tr:only-child th {\n",
       "        text-align: right;\n",
       "    }\n",
       "\n",
       "    .dataframe thead th {\n",
       "        text-align: left;\n",
       "    }\n",
       "\n",
       "    .dataframe tbody tr th {\n",
       "        vertical-align: top;\n",
       "    }\n",
       "</style>\n",
       "<table border=\"1\" class=\"dataframe\">\n",
       "  <thead>\n",
       "    <tr style=\"text-align: right;\">\n",
       "      <th></th>\n",
       "      <th>date_game</th>\n",
       "      <th>season</th>\n",
       "      <th>home_team</th>\n",
       "      <th>away_team</th>\n",
       "      <th>home_game_season</th>\n",
       "      <th>home_pts</th>\n",
       "      <th>home_pts_mean</th>\n",
       "      <th>home_opp_pts_mean</th>\n",
       "      <th>home_fg_mean</th>\n",
       "      <th>home_fga_mean</th>\n",
       "      <th>...</th>\n",
       "      <th>away_efg_pct_mean</th>\n",
       "      <th>away_tov_pct_mean</th>\n",
       "      <th>away_orb_pct_mean</th>\n",
       "      <th>away_ft_rate_mean</th>\n",
       "      <th>away_opp_efg_pct_mean</th>\n",
       "      <th>away_opp_tov_pct_mean</th>\n",
       "      <th>away_drb_pct_mean</th>\n",
       "      <th>away_opp_ft_rate_mean</th>\n",
       "      <th>away_w_l_mean</th>\n",
       "      <th>score_margin</th>\n",
       "    </tr>\n",
       "  </thead>\n",
       "  <tbody>\n",
       "    <tr>\n",
       "      <th>0</th>\n",
       "      <td>2007-10-30</td>\n",
       "      <td>2008</td>\n",
       "      <td>LAL</td>\n",
       "      <td>HOU</td>\n",
       "      <td>1</td>\n",
       "      <td>93</td>\n",
       "      <td>NaN</td>\n",
       "      <td>NaN</td>\n",
       "      <td>NaN</td>\n",
       "      <td>NaN</td>\n",
       "      <td>...</td>\n",
       "      <td>NaN</td>\n",
       "      <td>NaN</td>\n",
       "      <td>NaN</td>\n",
       "      <td>NaN</td>\n",
       "      <td>NaN</td>\n",
       "      <td>NaN</td>\n",
       "      <td>NaN</td>\n",
       "      <td>NaN</td>\n",
       "      <td>NaN</td>\n",
       "      <td>-2</td>\n",
       "    </tr>\n",
       "    <tr>\n",
       "      <th>1</th>\n",
       "      <td>2007-10-30</td>\n",
       "      <td>2008</td>\n",
       "      <td>GSW</td>\n",
       "      <td>UTA</td>\n",
       "      <td>1</td>\n",
       "      <td>96</td>\n",
       "      <td>NaN</td>\n",
       "      <td>NaN</td>\n",
       "      <td>NaN</td>\n",
       "      <td>NaN</td>\n",
       "      <td>...</td>\n",
       "      <td>NaN</td>\n",
       "      <td>NaN</td>\n",
       "      <td>NaN</td>\n",
       "      <td>NaN</td>\n",
       "      <td>NaN</td>\n",
       "      <td>NaN</td>\n",
       "      <td>NaN</td>\n",
       "      <td>NaN</td>\n",
       "      <td>NaN</td>\n",
       "      <td>-21</td>\n",
       "    </tr>\n",
       "    <tr>\n",
       "      <th>2</th>\n",
       "      <td>2007-10-30</td>\n",
       "      <td>2008</td>\n",
       "      <td>SAS</td>\n",
       "      <td>POR</td>\n",
       "      <td>1</td>\n",
       "      <td>106</td>\n",
       "      <td>NaN</td>\n",
       "      <td>NaN</td>\n",
       "      <td>NaN</td>\n",
       "      <td>NaN</td>\n",
       "      <td>...</td>\n",
       "      <td>NaN</td>\n",
       "      <td>NaN</td>\n",
       "      <td>NaN</td>\n",
       "      <td>NaN</td>\n",
       "      <td>NaN</td>\n",
       "      <td>NaN</td>\n",
       "      <td>NaN</td>\n",
       "      <td>NaN</td>\n",
       "      <td>NaN</td>\n",
       "      <td>9</td>\n",
       "    </tr>\n",
       "    <tr>\n",
       "      <th>3</th>\n",
       "      <td>2007-10-31</td>\n",
       "      <td>2008</td>\n",
       "      <td>ORL</td>\n",
       "      <td>MIL</td>\n",
       "      <td>1</td>\n",
       "      <td>102</td>\n",
       "      <td>NaN</td>\n",
       "      <td>NaN</td>\n",
       "      <td>NaN</td>\n",
       "      <td>NaN</td>\n",
       "      <td>...</td>\n",
       "      <td>NaN</td>\n",
       "      <td>NaN</td>\n",
       "      <td>NaN</td>\n",
       "      <td>NaN</td>\n",
       "      <td>NaN</td>\n",
       "      <td>NaN</td>\n",
       "      <td>NaN</td>\n",
       "      <td>NaN</td>\n",
       "      <td>NaN</td>\n",
       "      <td>19</td>\n",
       "    </tr>\n",
       "    <tr>\n",
       "      <th>4</th>\n",
       "      <td>2007-10-31</td>\n",
       "      <td>2008</td>\n",
       "      <td>MEM</td>\n",
       "      <td>SAS</td>\n",
       "      <td>1</td>\n",
       "      <td>101</td>\n",
       "      <td>NaN</td>\n",
       "      <td>NaN</td>\n",
       "      <td>NaN</td>\n",
       "      <td>NaN</td>\n",
       "      <td>...</td>\n",
       "      <td>0.506</td>\n",
       "      <td>7.5</td>\n",
       "      <td>27.3</td>\n",
       "      <td>0.207</td>\n",
       "      <td>0.538</td>\n",
       "      <td>15.8</td>\n",
       "      <td>77.8</td>\n",
       "      <td>0.167</td>\n",
       "      <td>1.0</td>\n",
       "      <td>-3</td>\n",
       "    </tr>\n",
       "  </tbody>\n",
       "</table>\n",
       "<p>5 rows × 112 columns</p>\n",
       "</div>"
      ],
      "text/plain": [
       "   date_game  season home_team away_team  home_game_season  home_pts  \\\n",
       "0 2007-10-30    2008       LAL       HOU                 1        93   \n",
       "1 2007-10-30    2008       GSW       UTA                 1        96   \n",
       "2 2007-10-30    2008       SAS       POR                 1       106   \n",
       "3 2007-10-31    2008       ORL       MIL                 1       102   \n",
       "4 2007-10-31    2008       MEM       SAS                 1       101   \n",
       "\n",
       "   home_pts_mean  home_opp_pts_mean  home_fg_mean  home_fga_mean  \\\n",
       "0            NaN                NaN           NaN            NaN   \n",
       "1            NaN                NaN           NaN            NaN   \n",
       "2            NaN                NaN           NaN            NaN   \n",
       "3            NaN                NaN           NaN            NaN   \n",
       "4            NaN                NaN           NaN            NaN   \n",
       "\n",
       "       ...       away_efg_pct_mean  away_tov_pct_mean  away_orb_pct_mean  \\\n",
       "0      ...                     NaN                NaN                NaN   \n",
       "1      ...                     NaN                NaN                NaN   \n",
       "2      ...                     NaN                NaN                NaN   \n",
       "3      ...                     NaN                NaN                NaN   \n",
       "4      ...                   0.506                7.5               27.3   \n",
       "\n",
       "   away_ft_rate_mean  away_opp_efg_pct_mean  away_opp_tov_pct_mean  \\\n",
       "0                NaN                    NaN                    NaN   \n",
       "1                NaN                    NaN                    NaN   \n",
       "2                NaN                    NaN                    NaN   \n",
       "3                NaN                    NaN                    NaN   \n",
       "4              0.207                  0.538                   15.8   \n",
       "\n",
       "   away_drb_pct_mean  away_opp_ft_rate_mean  away_w_l_mean  score_margin  \n",
       "0                NaN                    NaN            NaN            -2  \n",
       "1                NaN                    NaN            NaN           -21  \n",
       "2                NaN                    NaN            NaN             9  \n",
       "3                NaN                    NaN            NaN            19  \n",
       "4               77.8                  0.167            1.0            -3  \n",
       "\n",
       "[5 rows x 112 columns]"
      ]
     },
     "execution_count": 82,
     "metadata": {},
     "output_type": "execute_result"
    }
   ],
   "source": [
    "data.head()"
   ]
  },
  {
   "cell_type": "code",
   "execution_count": 83,
   "metadata": {
    "collapsed": true
   },
   "outputs": [],
   "source": [
    "filename = '../data/processed_data.sav'\n",
    "pickle.dump(data, open(filename, 'wb'))"
   ]
  }
 ],
 "metadata": {
  "kernelspec": {
   "display_name": "Python 3",
   "language": "python",
   "name": "python3"
  },
  "language_info": {
   "codemirror_mode": {
    "name": "ipython",
    "version": 3
   },
   "file_extension": ".py",
   "mimetype": "text/x-python",
   "name": "python",
   "nbconvert_exporter": "python",
   "pygments_lexer": "ipython3",
   "version": "3.6.1"
  }
 },
 "nbformat": 4,
 "nbformat_minor": 2
}
