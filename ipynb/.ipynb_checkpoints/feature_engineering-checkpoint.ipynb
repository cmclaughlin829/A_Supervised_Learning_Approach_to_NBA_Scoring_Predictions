{
 "cells": [
  {
   "cell_type": "code",
   "execution_count": 296,
   "metadata": {
    "collapsed": true
   },
   "outputs": [],
   "source": [
    "import pandas as pd\n",
    "import numpy as np\n",
    "import pickle\n",
    "from geopy.geocoders import Nominatim\n",
    "from geopy.distance import vincenty"
   ]
  },
  {
   "cell_type": "code",
   "execution_count": 298,
   "metadata": {},
   "outputs": [],
   "source": [
    "filename = '../data/cleaned_stats.sav'\n",
    "data = pickle.load(open(filename, 'rb'))"
   ]
  },
  {
   "cell_type": "markdown",
   "metadata": {},
   "source": [
    "### Create new features that average performance over previous 5 games for features correlated with score_margin"
   ]
  },
  {
   "cell_type": "code",
   "execution_count": 299,
   "metadata": {
    "collapsed": true
   },
   "outputs": [],
   "source": [
    "def rolling_window_mean(df, column_list, width):\n",
    "    for column in column_list:\n",
    "        df[column+'_last5']=df.groupby(['season', 'team'])[column].transform(lambda x: x.rolling(window=width).mean().shift(1))\n",
    "    return df"
   ]
  },
  {
   "cell_type": "code",
   "execution_count": 300,
   "metadata": {},
   "outputs": [],
   "source": [
    "columns_to_window = ['off_rtg_mean', 'w_l_mean']"
   ]
  },
  {
   "cell_type": "code",
   "execution_count": 301,
   "metadata": {},
   "outputs": [],
   "source": [
    "feature_data = rolling_window_mean(data, columns_to_window, 5)"
   ]
  },
  {
   "cell_type": "code",
   "execution_count": 302,
   "metadata": {},
   "outputs": [
    {
     "data": {
      "text/html": [
       "<div>\n",
       "<style>\n",
       "    .dataframe thead tr:only-child th {\n",
       "        text-align: right;\n",
       "    }\n",
       "\n",
       "    .dataframe thead th {\n",
       "        text-align: left;\n",
       "    }\n",
       "\n",
       "    .dataframe tbody tr th {\n",
       "        vertical-align: top;\n",
       "    }\n",
       "</style>\n",
       "<table border=\"1\" class=\"dataframe\">\n",
       "  <thead>\n",
       "    <tr style=\"text-align: right;\">\n",
       "      <th></th>\n",
       "      <th>team</th>\n",
       "      <th>season</th>\n",
       "      <th>game_season</th>\n",
       "      <th>date_game</th>\n",
       "      <th>game_location</th>\n",
       "      <th>opp_id</th>\n",
       "      <th>game_result</th>\n",
       "      <th>pts</th>\n",
       "      <th>opp_pts</th>\n",
       "      <th>fg</th>\n",
       "      <th>...</th>\n",
       "      <th>tov_pct_mean</th>\n",
       "      <th>orb_pct_mean</th>\n",
       "      <th>ft_rate_mean</th>\n",
       "      <th>opp_efg_pct_mean</th>\n",
       "      <th>opp_tov_pct_mean</th>\n",
       "      <th>drb_pct_mean</th>\n",
       "      <th>opp_ft_rate_mean</th>\n",
       "      <th>w_l_mean</th>\n",
       "      <th>off_rtg_mean_last5</th>\n",
       "      <th>w_l_mean_last5</th>\n",
       "    </tr>\n",
       "  </thead>\n",
       "  <tbody>\n",
       "    <tr>\n",
       "      <th>0</th>\n",
       "      <td>ATL</td>\n",
       "      <td>2008</td>\n",
       "      <td>1</td>\n",
       "      <td>2007-11-02</td>\n",
       "      <td>NaN</td>\n",
       "      <td>DAL</td>\n",
       "      <td>W</td>\n",
       "      <td>101</td>\n",
       "      <td>94</td>\n",
       "      <td>36</td>\n",
       "      <td>...</td>\n",
       "      <td>NaN</td>\n",
       "      <td>NaN</td>\n",
       "      <td>NaN</td>\n",
       "      <td>NaN</td>\n",
       "      <td>NaN</td>\n",
       "      <td>NaN</td>\n",
       "      <td>NaN</td>\n",
       "      <td>NaN</td>\n",
       "      <td>NaN</td>\n",
       "      <td>NaN</td>\n",
       "    </tr>\n",
       "    <tr>\n",
       "      <th>1</th>\n",
       "      <td>ATL</td>\n",
       "      <td>2008</td>\n",
       "      <td>2</td>\n",
       "      <td>2007-11-04</td>\n",
       "      <td>@</td>\n",
       "      <td>DET</td>\n",
       "      <td>L</td>\n",
       "      <td>91</td>\n",
       "      <td>92</td>\n",
       "      <td>33</td>\n",
       "      <td>...</td>\n",
       "      <td>13.900000</td>\n",
       "      <td>31.100000</td>\n",
       "      <td>0.316000</td>\n",
       "      <td>0.463000</td>\n",
       "      <td>9.900000</td>\n",
       "      <td>84.40</td>\n",
       "      <td>0.25000</td>\n",
       "      <td>1.000000</td>\n",
       "      <td>NaN</td>\n",
       "      <td>NaN</td>\n",
       "    </tr>\n",
       "    <tr>\n",
       "      <th>2</th>\n",
       "      <td>ATL</td>\n",
       "      <td>2008</td>\n",
       "      <td>3</td>\n",
       "      <td>2007-11-06</td>\n",
       "      <td>@</td>\n",
       "      <td>NJN</td>\n",
       "      <td>L</td>\n",
       "      <td>82</td>\n",
       "      <td>87</td>\n",
       "      <td>26</td>\n",
       "      <td>...</td>\n",
       "      <td>16.200000</td>\n",
       "      <td>32.200000</td>\n",
       "      <td>0.304000</td>\n",
       "      <td>0.472000</td>\n",
       "      <td>11.650000</td>\n",
       "      <td>76.70</td>\n",
       "      <td>0.21150</td>\n",
       "      <td>0.500000</td>\n",
       "      <td>NaN</td>\n",
       "      <td>NaN</td>\n",
       "    </tr>\n",
       "    <tr>\n",
       "      <th>3</th>\n",
       "      <td>ATL</td>\n",
       "      <td>2008</td>\n",
       "      <td>4</td>\n",
       "      <td>2007-11-07</td>\n",
       "      <td>NaN</td>\n",
       "      <td>PHO</td>\n",
       "      <td>W</td>\n",
       "      <td>105</td>\n",
       "      <td>96</td>\n",
       "      <td>41</td>\n",
       "      <td>...</td>\n",
       "      <td>17.066667</td>\n",
       "      <td>27.966667</td>\n",
       "      <td>0.315333</td>\n",
       "      <td>0.468667</td>\n",
       "      <td>13.233333</td>\n",
       "      <td>74.20</td>\n",
       "      <td>0.20500</td>\n",
       "      <td>0.333333</td>\n",
       "      <td>NaN</td>\n",
       "      <td>NaN</td>\n",
       "    </tr>\n",
       "    <tr>\n",
       "      <th>4</th>\n",
       "      <td>ATL</td>\n",
       "      <td>2008</td>\n",
       "      <td>5</td>\n",
       "      <td>2007-11-09</td>\n",
       "      <td>@</td>\n",
       "      <td>BOS</td>\n",
       "      <td>L</td>\n",
       "      <td>83</td>\n",
       "      <td>106</td>\n",
       "      <td>30</td>\n",
       "      <td>...</td>\n",
       "      <td>16.250000</td>\n",
       "      <td>30.025000</td>\n",
       "      <td>0.289250</td>\n",
       "      <td>0.469250</td>\n",
       "      <td>13.175000</td>\n",
       "      <td>75.55</td>\n",
       "      <td>0.19725</td>\n",
       "      <td>0.500000</td>\n",
       "      <td>NaN</td>\n",
       "      <td>NaN</td>\n",
       "    </tr>\n",
       "  </tbody>\n",
       "</table>\n",
       "<p>5 rows × 111 columns</p>\n",
       "</div>"
      ],
      "text/plain": [
       "  team  season  game_season  date_game game_location opp_id game_result  pts  \\\n",
       "0  ATL    2008            1 2007-11-02           NaN    DAL           W  101   \n",
       "1  ATL    2008            2 2007-11-04             @    DET           L   91   \n",
       "2  ATL    2008            3 2007-11-06             @    NJN           L   82   \n",
       "3  ATL    2008            4 2007-11-07           NaN    PHO           W  105   \n",
       "4  ATL    2008            5 2007-11-09             @    BOS           L   83   \n",
       "\n",
       "   opp_pts  fg       ...        tov_pct_mean  orb_pct_mean  ft_rate_mean  \\\n",
       "0       94  36       ...                 NaN           NaN           NaN   \n",
       "1       92  33       ...           13.900000     31.100000      0.316000   \n",
       "2       87  26       ...           16.200000     32.200000      0.304000   \n",
       "3       96  41       ...           17.066667     27.966667      0.315333   \n",
       "4      106  30       ...           16.250000     30.025000      0.289250   \n",
       "\n",
       "   opp_efg_pct_mean  opp_tov_pct_mean  drb_pct_mean  opp_ft_rate_mean  \\\n",
       "0               NaN               NaN           NaN               NaN   \n",
       "1          0.463000          9.900000         84.40           0.25000   \n",
       "2          0.472000         11.650000         76.70           0.21150   \n",
       "3          0.468667         13.233333         74.20           0.20500   \n",
       "4          0.469250         13.175000         75.55           0.19725   \n",
       "\n",
       "   w_l_mean  off_rtg_mean_last5  w_l_mean_last5  \n",
       "0       NaN                 NaN             NaN  \n",
       "1  1.000000                 NaN             NaN  \n",
       "2  0.500000                 NaN             NaN  \n",
       "3  0.333333                 NaN             NaN  \n",
       "4  0.500000                 NaN             NaN  \n",
       "\n",
       "[5 rows x 111 columns]"
      ]
     },
     "execution_count": 302,
     "metadata": {},
     "output_type": "execute_result"
    }
   ],
   "source": [
    "feature_data.head()"
   ]
  },
  {
   "cell_type": "markdown",
   "metadata": {},
   "source": [
    "### Create feature to show teams rest coming into game"
   ]
  },
  {
   "cell_type": "code",
   "execution_count": 303,
   "metadata": {},
   "outputs": [],
   "source": [
    "feature_data['days_rest']=feature_data.groupby(['season', 'team'])['date_game'].transform(lambda x: x.diff()/np.timedelta64(1, 'D'))"
   ]
  },
  {
   "cell_type": "markdown",
   "metadata": {},
   "source": [
    "### Create feature to show miles traveled for away team"
   ]
  },
  {
   "cell_type": "code",
   "execution_count": 304,
   "metadata": {
    "collapsed": true
   },
   "outputs": [],
   "source": [
    "teams_08 = ['ATL', 'NJN', 'BOS', 'CHA', 'CHI', 'CLE', 'DAL', 'DEN', 'DET', 'GSW', 'HOU', 'IND',\n",
    "            'LAC', 'LAL', 'MEM', 'MIA', 'MIL', 'MIN', 'NOH', 'NYK', 'SEA', 'ORL', 'PHI', 'PHO',\n",
    "            'POR', 'SAC', 'SAS', 'TOR', 'UTA', 'WAS']\n",
    "\n",
    "teams_09_12 = ['ATL', 'NJN', 'BOS', 'CHA', 'CHI', 'CLE', 'DAL', 'DEN', 'DET', 'GSW', 'HOU', 'IND',\n",
    "               'LAC', 'LAL', 'MEM', 'MIA', 'MIL', 'MIN', 'NOH', 'NYK', 'OKC', 'ORL', 'PHI', 'PHO',\n",
    "               'POR', 'SAC', 'SAS', 'TOR', 'UTA', 'WAS']\n",
    "\n",
    "teams_13 = ['ATL', 'BRK', 'BOS', 'CHA', 'CHI', 'CLE', 'DAL', 'DEN', 'DET', 'GSW', 'HOU', 'IND',\n",
    "            'LAC', 'LAL', 'MEM', 'MIA', 'MIL', 'MIN', 'NOH', 'NYK', 'OKC', 'ORL', 'PHI', 'PHO',\n",
    "            'POR', 'SAC', 'SAS', 'TOR', 'UTA', 'WAS']\n",
    "\n",
    "teams_14 = ['ATL', 'BRK', 'BOS', 'CHA', 'CHI', 'CLE', 'DAL', 'DEN', 'DET', 'GSW', 'HOU', 'IND',\n",
    "            'LAC', 'LAL', 'MEM', 'MIA', 'MIL', 'MIN', 'NOP', 'NYK', 'OKC', 'ORL', 'PHI', 'PHO',\n",
    "            'POR', 'SAC', 'SAS', 'TOR', 'UTA', 'WAS']\n",
    "\n",
    "teams_15_17 = ['ATL', 'BRK', 'BOS', 'CHO', 'CHI', 'CLE', 'DAL', 'DEN', 'DET', 'GSW', 'HOU', 'IND',\n",
    "               'LAC', 'LAL', 'MEM', 'MIA', 'MIL', 'MIN', 'NOP', 'NYK', 'OKC', 'ORL', 'PHI', 'PHO',\n",
    "               'POR', 'SAC', 'SAS', 'TOR', 'UTA', 'WAS']\n",
    "\n",
    "all_teams = list(set(teams_08+teams_09_12+teams_13+teams_14+teams_15_17))"
   ]
  },
  {
   "cell_type": "code",
   "execution_count": 305,
   "metadata": {
    "collapsed": true
   },
   "outputs": [],
   "source": [
    "cities = {'NJN':'Newark, New Jersey', 'NOP':'New Orleans, Louisiana', 'NYK':'New York City, New York', \n",
    "          'CLE':'Cleveland, Ohio', 'MIA':'Miami, Florida', 'DEN':'Denver, Colorado', 'HOU':'Houston, Texas',\n",
    "          'LAL':'Los Angeles, California', 'SAS':'San Antonio, Texas', 'DAL':'Dallas, Texas', \n",
    "          'BOS':'Boston, Massachusetts', 'NOH':'New Orleans, Louisiana', 'ATL':'Atlanta, Georgia',\n",
    "          'MIL':'Milwaukee, Wisconsin', 'POR':'Portland, Oregon', 'CHO':'Charlotte, North Carolina', \n",
    "          'MIN':'Minneapolis, Minnesota', 'GSW':'San Francisco, California', 'LAC':'Los Angeles, California', \n",
    "          'UTA':'Salt Lake City, Utah', 'OKC':'Oklahoma City, Oklahoma', 'BRK':'Brooklyn, New York',\n",
    "          'CHI':'Chicago, Illinois', 'SAC':'Sacramento, California', 'MEM':'Memphis Tennessee', \n",
    "          'PHI':'Philadelphia, Pennsylvania', 'WAS':'Washington, D.C.', 'ORL':'Orlando, Florida', \n",
    "          'IND':'Indianapolis, Indiana', 'CHA':'Charlotte, North Carolina', 'PHO':'Phoenix, Arizona',\n",
    "          'DET':'Detroit, Michigan', 'SEA':'Seattle, Washington', 'TOR':'Toronto, Ontario'}"
   ]
  },
  {
   "cell_type": "code",
   "execution_count": 306,
   "metadata": {},
   "outputs": [],
   "source": [
    "geolocator = Nominatim()\n",
    "for abbrv, city in cities.items():\n",
    "    location = geolocator.geocode(city)\n",
    "    cities[abbrv]=(location.latitude, location.longitude)    "
   ]
  },
  {
   "cell_type": "code",
   "execution_count": 307,
   "metadata": {},
   "outputs": [],
   "source": [
    "feature_data['lat_long']=feature_data['team'].map(cities)"
   ]
  },
  {
   "cell_type": "markdown",
   "metadata": {},
   "source": [
    "### Merge with Schedules"
   ]
  },
  {
   "cell_type": "code",
   "execution_count": 308,
   "metadata": {
    "collapsed": true
   },
   "outputs": [],
   "source": [
    "cols = list(feature_data.columns.values)\n",
    "cols = [cols[0]]+cols[2:4]+[cols[7]]+cols[58:]\n",
    "feature_data = feature_data[cols].copy()"
   ]
  },
  {
   "cell_type": "code",
   "execution_count": 309,
   "metadata": {
    "collapsed": true
   },
   "outputs": [],
   "source": [
    "filename = '../data/schedules.sav'\n",
    "schedules = pickle.load(open(filename, 'rb'))"
   ]
  },
  {
   "cell_type": "code",
   "execution_count": 310,
   "metadata": {
    "collapsed": true
   },
   "outputs": [],
   "source": [
    "data = schedules.merge(feature_data, left_on=['home_team', 'date_game'], right_on=['team', 'date_game'])\n",
    "\n",
    "home_column_name_dict = {column:'home_'+column for column in cols}\n",
    "data = data.rename(columns = home_column_name_dict)"
   ]
  },
  {
   "cell_type": "code",
   "execution_count": 311,
   "metadata": {},
   "outputs": [],
   "source": [
    "data = data.merge(feature_data, left_on=['away_team', 'home_date_game'], right_on=['team', 'date_game'])\n",
    "\n",
    "away_column_name_dict = {column:'away_'+column for column in cols}\n",
    "data=data.rename(columns = away_column_name_dict)\n",
    "data=data.rename(columns = {'home_date_game':'date_game'})"
   ]
  },
  {
   "cell_type": "code",
   "execution_count": 312,
   "metadata": {
    "collapsed": true
   },
   "outputs": [],
   "source": [
    "data = data.loc[:,~data.columns.duplicated()]"
   ]
  },
  {
   "cell_type": "code",
   "execution_count": 313,
   "metadata": {
    "collapsed": true
   },
   "outputs": [],
   "source": [
    "data['score_margin'] = data['home_pts']-data['away_pts']"
   ]
  },
  {
   "cell_type": "code",
   "execution_count": 314,
   "metadata": {
    "collapsed": true
   },
   "outputs": [],
   "source": [
    "def calc_distance(df):\n",
    "    return vincenty(df['home_lat_long'], df['away_lat_long']).miles\n",
    "\n",
    "data['distance_traveled'] = data.apply(calc_distance, axis=1)"
   ]
  },
  {
   "cell_type": "code",
   "execution_count": 315,
   "metadata": {
    "collapsed": true
   },
   "outputs": [],
   "source": [
    "filename = '../data/new_features.sav'\n",
    "pickle.dump(data, open(filename, 'wb'))"
   ]
  }
 ],
 "metadata": {
  "kernelspec": {
   "display_name": "Python 3",
   "language": "python",
   "name": "python3"
  },
  "language_info": {
   "codemirror_mode": {
    "name": "ipython",
    "version": 3
   },
   "file_extension": ".py",
   "mimetype": "text/x-python",
   "name": "python",
   "nbconvert_exporter": "python",
   "pygments_lexer": "ipython3",
   "version": "3.6.1"
  }
 },
 "nbformat": 4,
 "nbformat_minor": 2
}
