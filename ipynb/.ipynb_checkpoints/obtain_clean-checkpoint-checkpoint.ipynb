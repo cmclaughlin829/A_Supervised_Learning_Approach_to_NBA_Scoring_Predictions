{
 "cells": [
  {
   "cell_type": "code",
   "execution_count": 1,
   "metadata": {
    "collapsed": false
   },
   "outputs": [],
   "source": [
    "from urllib.request import urlopen\n",
    "from bs4 import BeautifulSoup\n",
    "import pandas as pd\n",
    "import numpy as np\n",
    "import re"
   ]
  },
  {
   "cell_type": "code",
   "execution_count": 2,
   "metadata": {
    "collapsed": true
   },
   "outputs": [],
   "source": [
    "teams = ['ATL', 'BKN', 'BOS', 'CHA', 'CHI', 'CLE', 'DAL', 'DEN', 'DET', 'GSW', 'HOU', 'IND',\n",
    "         'LAC', 'LAL', 'MEM', 'MIA', 'MIL', 'MIN', 'NOP', 'NYK', 'OKC', 'ORL', 'PHI', 'PHX',\n",
    "         'POR', 'SAC', 'SAS', 'TOR', 'UTA', 'WAS']\n",
    "seasons = ['2008', '2009', '2010', '2011', '2012', '2013', '2014', '2015', '2016', '2017']"
   ]
  },
  {
   "cell_type": "code",
   "execution_count": 3,
   "metadata": {
    "collapsed": false
   },
   "outputs": [],
   "source": [
    "column_headers = ['game_season', 'date_game', 'game_location', 'opp_id', 'game_result', 'pts', 'opp_pts',\n",
    "                  'fg', 'fga', 'fg_pct', 'fg3', 'fg3a', 'fg3_pct', 'ft', 'fta', 'ft_pct', 'orb', 'trb',\n",
    "                  'ast', 'stl', 'blk', 'tov', 'pf', 'opp_fg', 'opp_fga', 'opp_fg_pct', 'opp_fg3', 'opp_ft',\n",
    "                  'opp_fta', 'opp_ft_pct', 'opp_orb', 'opp_trb', 'opp_ast', 'opp_stl', 'opp_blk', 'opp_tov',\n",
    "                  'opp_pf']\n",
    "column_headers_additional = ['team', 'season']"
   ]
  },
  {
   "cell_type": "code",
   "execution_count": 4,
   "metadata": {
    "collapsed": false
   },
   "outputs": [],
   "source": [
    "advanced_column_headers = ['off_rtg', 'def_rtg', 'pace', 'fta_per_fga_pct', 'fg3a_per_fga_pct', 'ts_pct', \n",
    "                           'trb_pct', 'ast_pct', 'stl_pct', 'blk_pct', 'efg_pct', 'tov_pct', 'orb_pct', \n",
    "                           'ft_rate', 'opp_efg_pct', 'opp_tov_pct', 'drb_pct', 'opp_ft_rate']\n",
    "complete_column_headers = column_headers_additional + column_headers + advanced_column_headers"
   ]
  },
  {
   "cell_type": "code",
   "execution_count": 5,
   "metadata": {
    "collapsed": false
   },
   "outputs": [
    {
     "data": {
      "text/plain": [
       "['team',\n",
       " 'season',\n",
       " 'game_season',\n",
       " 'date_game',\n",
       " 'game_location',\n",
       " 'opp_id',\n",
       " 'game_result',\n",
       " 'pts',\n",
       " 'opp_pts',\n",
       " 'fg',\n",
       " 'fga',\n",
       " 'fg_pct',\n",
       " 'fg3',\n",
       " 'fg3a',\n",
       " 'fg3_pct',\n",
       " 'ft',\n",
       " 'fta',\n",
       " 'ft_pct',\n",
       " 'orb',\n",
       " 'trb',\n",
       " 'ast',\n",
       " 'stl',\n",
       " 'blk',\n",
       " 'tov',\n",
       " 'pf',\n",
       " 'opp_fg',\n",
       " 'opp_fga',\n",
       " 'opp_fg_pct',\n",
       " 'opp_fg3',\n",
       " 'opp_ft',\n",
       " 'opp_fta',\n",
       " 'opp_ft_pct',\n",
       " 'opp_orb',\n",
       " 'opp_trb',\n",
       " 'opp_ast',\n",
       " 'opp_stl',\n",
       " 'opp_blk',\n",
       " 'opp_tov',\n",
       " 'opp_pf',\n",
       " 'off_rtg',\n",
       " 'def_rtg',\n",
       " 'pace',\n",
       " 'fta_per_fga_pct',\n",
       " 'fg3a_per_fga_pct',\n",
       " 'ts_pct',\n",
       " 'trb_pct',\n",
       " 'ast_pct',\n",
       " 'stl_pct',\n",
       " 'blk_pct',\n",
       " 'efg_pct',\n",
       " 'tov_pct',\n",
       " 'orb_pct',\n",
       " 'ft_rate',\n",
       " 'opp_efg_pct',\n",
       " 'opp_tov_pct',\n",
       " 'drb_pct',\n",
       " 'opp_ft_rate']"
      ]
     },
     "execution_count": 5,
     "metadata": {},
     "output_type": "execute_result"
    }
   ],
   "source": [
    "complete_column_headers"
   ]
  },
  {
   "cell_type": "code",
   "execution_count": 6,
   "metadata": {
    "collapsed": true
   },
   "outputs": [],
   "source": [
    "def gamelog_scrape(team_list, year_list):\n",
    "    gamelogs = []\n",
    "    for year in year_list:\n",
    "        for team in team_list:\n",
    "            team_data = []\n",
    "            url = 'https://www.basketball-reference.com/teams/{}/{}/gamelog/'.format(team, year)\n",
    "            html = urlopen(url)\n",
    "            soup = BeautifulSoup(html, 'lxml')\n",
    "            data_rows = soup.findAll('tr', {'id':re.compile('^tgl_basic')})\n",
    "            data = [[td.getText() for td in data_rows[i].findAll('td', {'data-stat':column_headers})] \n",
    "                    for i in range(len(data_rows))]\n",
    "            for row in data:\n",
    "                row.extend([team, year])\n",
    "            team_data.append(data)\n",
    "            \n",
    "            urlA = 'https://www.basketball-reference.com/teams/{}/{}/gamelog-advanced'.format(team, year)\n",
    "            htmlA = urlopen(urlA)\n",
    "            soupA = BeautifulSoup(htmlA, 'lxml')\n",
    "            data_rowsA = soupA.findAll('tr', {'id':re.compile('^tgl_basic')})\n",
    "            dataA = [[td.getText() for td in data_rowsA[i].findAll('td', {'data-stat':advanced_column_headers})]\n",
    "                    for i in range(len(data_rowsA))]\n",
    "            \n",
    "            \n",
    "    return gamelogs"
   ]
  },
  {
   "cell_type": "code",
   "execution_count": 7,
   "metadata": {
    "collapsed": true
   },
   "outputs": [],
   "source": [
    "test = [4, 5, 6, 7]"
   ]
  },
  {
   "cell_type": "code",
   "execution_count": 8,
   "metadata": {
    "collapsed": true
   },
   "outputs": [],
   "source": [
    "test.insert(0, 1)"
   ]
  },
  {
   "cell_type": "code",
   "execution_count": null,
   "metadata": {
    "collapsed": true
   },
   "outputs": [],
   "source": []
  },
  {
   "cell_type": "code",
   "execution_count": 9,
   "metadata": {
    "collapsed": true
   },
   "outputs": [],
   "source": [
    "test_teams = ['ATL', 'BKN']\n",
    "test_seasons = ['2008']"
   ]
  },
  {
   "cell_type": "code",
   "execution_count": 10,
   "metadata": {
    "collapsed": true
   },
   "outputs": [],
   "source": [
    "data_test = gamelog_scrape(test_teams, test_seasons)"
   ]
  },
  {
   "cell_type": "code",
   "execution_count": 11,
   "metadata": {
    "collapsed": false
   },
   "outputs": [
    {
     "ename": "IndexError",
     "evalue": "list index out of range",
     "output_type": "error",
     "traceback": [
      "\u001b[0;31m---------------------------------------------------------------------------\u001b[0m",
      "\u001b[0;31mIndexError\u001b[0m                                Traceback (most recent call last)",
      "\u001b[0;32m<ipython-input-11-c5da099aa697>\u001b[0m in \u001b[0;36m<module>\u001b[0;34m()\u001b[0m\n\u001b[0;32m----> 1\u001b[0;31m \u001b[0mdata_test\u001b[0m\u001b[0;34m[\u001b[0m\u001b[0;36m0\u001b[0m\u001b[0;34m]\u001b[0m\u001b[0;34m\u001b[0m\u001b[0m\n\u001b[0m",
      "\u001b[0;31mIndexError\u001b[0m: list index out of range"
     ]
    }
   ],
   "source": [
    "data_test[0]"
   ]
  },
  {
   "cell_type": "code",
   "execution_count": null,
   "metadata": {
    "collapsed": true
   },
   "outputs": [],
   "source": []
  },
  {
   "cell_type": "code",
   "execution_count": null,
   "metadata": {
    "collapsed": true
   },
   "outputs": [],
   "source": []
  },
  {
   "cell_type": "code",
   "execution_count": null,
   "metadata": {
    "collapsed": true
   },
   "outputs": [],
   "source": []
  },
  {
   "cell_type": "code",
   "execution_count": 78,
   "metadata": {
    "collapsed": false
   },
   "outputs": [],
   "source": [
    "data = gamelog_scrape(teams, seasons)"
   ]
  },
  {
   "cell_type": "code",
   "execution_count": 137,
   "metadata": {
    "collapsed": false
   },
   "outputs": [],
   "source": [
    "df = pd.concat([pd.DataFrame(d) for d in data])"
   ]
  },
  {
   "cell_type": "code",
   "execution_count": 138,
   "metadata": {
    "collapsed": false
   },
   "outputs": [],
   "source": [
    "df.columns=column_headers"
   ]
  },
  {
   "cell_type": "code",
   "execution_count": 143,
   "metadata": {
    "collapsed": false
   },
   "outputs": [
    {
     "data": {
      "text/html": [
       "<div>\n",
       "<table border=\"1\" class=\"dataframe\">\n",
       "  <thead>\n",
       "    <tr style=\"text-align: right;\">\n",
       "      <th></th>\n",
       "      <th>G</th>\n",
       "      <th>Date</th>\n",
       "      <th>Loc</th>\n",
       "      <th>Opp</th>\n",
       "      <th>W/L</th>\n",
       "      <th>Tm</th>\n",
       "      <th>Opp</th>\n",
       "      <th>FG</th>\n",
       "      <th>FGA</th>\n",
       "      <th>FG%</th>\n",
       "      <th>...</th>\n",
       "      <th>FT%</th>\n",
       "      <th>ORB</th>\n",
       "      <th>TRB</th>\n",
       "      <th>AST</th>\n",
       "      <th>STL</th>\n",
       "      <th>BLK</th>\n",
       "      <th>TOV</th>\n",
       "      <th>PF</th>\n",
       "      <th>Team</th>\n",
       "      <th>Season</th>\n",
       "    </tr>\n",
       "  </thead>\n",
       "  <tbody>\n",
       "    <tr>\n",
       "      <th>77</th>\n",
       "      <td>78</td>\n",
       "      <td>2017-04-04</td>\n",
       "      <td></td>\n",
       "      <td>CHO</td>\n",
       "      <td>W</td>\n",
       "      <td>118</td>\n",
       "      <td>111</td>\n",
       "      <td>43</td>\n",
       "      <td>85</td>\n",
       "      <td>.506</td>\n",
       "      <td>...</td>\n",
       "      <td>.864</td>\n",
       "      <td>9</td>\n",
       "      <td>37</td>\n",
       "      <td>21</td>\n",
       "      <td>5</td>\n",
       "      <td>3</td>\n",
       "      <td>16</td>\n",
       "      <td>17</td>\n",
       "      <td>WAS</td>\n",
       "      <td>2017</td>\n",
       "    </tr>\n",
       "    <tr>\n",
       "      <th>78</th>\n",
       "      <td>79</td>\n",
       "      <td>2017-04-06</td>\n",
       "      <td>@</td>\n",
       "      <td>NYK</td>\n",
       "      <td>W</td>\n",
       "      <td>106</td>\n",
       "      <td>103</td>\n",
       "      <td>36</td>\n",
       "      <td>74</td>\n",
       "      <td>.486</td>\n",
       "      <td>...</td>\n",
       "      <td>.762</td>\n",
       "      <td>20</td>\n",
       "      <td>49</td>\n",
       "      <td>20</td>\n",
       "      <td>9</td>\n",
       "      <td>2</td>\n",
       "      <td>11</td>\n",
       "      <td>19</td>\n",
       "      <td>WAS</td>\n",
       "      <td>2017</td>\n",
       "    </tr>\n",
       "    <tr>\n",
       "      <th>79</th>\n",
       "      <td>80</td>\n",
       "      <td>2017-04-08</td>\n",
       "      <td></td>\n",
       "      <td>MIA</td>\n",
       "      <td>L</td>\n",
       "      <td>103</td>\n",
       "      <td>106</td>\n",
       "      <td>39</td>\n",
       "      <td>81</td>\n",
       "      <td>.481</td>\n",
       "      <td>...</td>\n",
       "      <td>.694</td>\n",
       "      <td>8</td>\n",
       "      <td>36</td>\n",
       "      <td>23</td>\n",
       "      <td>13</td>\n",
       "      <td>7</td>\n",
       "      <td>13</td>\n",
       "      <td>19</td>\n",
       "      <td>WAS</td>\n",
       "      <td>2017</td>\n",
       "    </tr>\n",
       "    <tr>\n",
       "      <th>80</th>\n",
       "      <td>81</td>\n",
       "      <td>2017-04-10</td>\n",
       "      <td>@</td>\n",
       "      <td>DET</td>\n",
       "      <td>W</td>\n",
       "      <td>105</td>\n",
       "      <td>101</td>\n",
       "      <td>42</td>\n",
       "      <td>83</td>\n",
       "      <td>.506</td>\n",
       "      <td>...</td>\n",
       "      <td>1.000</td>\n",
       "      <td>6</td>\n",
       "      <td>36</td>\n",
       "      <td>22</td>\n",
       "      <td>9</td>\n",
       "      <td>2</td>\n",
       "      <td>10</td>\n",
       "      <td>18</td>\n",
       "      <td>WAS</td>\n",
       "      <td>2017</td>\n",
       "    </tr>\n",
       "    <tr>\n",
       "      <th>81</th>\n",
       "      <td>82</td>\n",
       "      <td>2017-04-12</td>\n",
       "      <td>@</td>\n",
       "      <td>MIA</td>\n",
       "      <td>L</td>\n",
       "      <td>102</td>\n",
       "      <td>110</td>\n",
       "      <td>42</td>\n",
       "      <td>87</td>\n",
       "      <td>.483</td>\n",
       "      <td>...</td>\n",
       "      <td>.833</td>\n",
       "      <td>14</td>\n",
       "      <td>51</td>\n",
       "      <td>19</td>\n",
       "      <td>2</td>\n",
       "      <td>4</td>\n",
       "      <td>17</td>\n",
       "      <td>13</td>\n",
       "      <td>WAS</td>\n",
       "      <td>2017</td>\n",
       "    </tr>\n",
       "  </tbody>\n",
       "</table>\n",
       "<p>5 rows × 42 columns</p>\n",
       "</div>"
      ],
      "text/plain": [
       "     G        Date Loc  Opp W/L   Tm  Opp  FG FGA   FG%  ...      FT% ORB TRB  \\\n",
       "77  78  2017-04-04      CHO   W  118  111  43  85  .506  ...     .864   9  37   \n",
       "78  79  2017-04-06   @  NYK   W  106  103  36  74  .486  ...     .762  20  49   \n",
       "79  80  2017-04-08      MIA   L  103  106  39  81  .481  ...     .694   8  36   \n",
       "80  81  2017-04-10   @  DET   W  105  101  42  83  .506  ...    1.000   6  36   \n",
       "81  82  2017-04-12   @  MIA   L  102  110  42  87  .483  ...     .833  14  51   \n",
       "\n",
       "   AST STL BLK TOV  PF Team Season  \n",
       "77  21   5   3  16  17  WAS   2017  \n",
       "78  20   9   2  11  19  WAS   2017  \n",
       "79  23  13   7  13  19  WAS   2017  \n",
       "80  22   9   2  10  18  WAS   2017  \n",
       "81  19   2   4  17  13  WAS   2017  \n",
       "\n",
       "[5 rows x 42 columns]"
      ]
     },
     "execution_count": 143,
     "metadata": {},
     "output_type": "execute_result"
    }
   ],
   "source": [
    "df.tail()"
   ]
  },
  {
   "cell_type": "code",
   "execution_count": 144,
   "metadata": {
    "collapsed": true
   },
   "outputs": [],
   "source": [
    "df.to_csv('gamelogs.csv')"
   ]
  },
  {
   "cell_type": "code",
   "execution_count": null,
   "metadata": {
    "collapsed": true
   },
   "outputs": [],
   "source": []
  }
 ],
 "metadata": {
  "kernelspec": {
   "display_name": "Python 3",
   "language": "python",
   "name": "python3"
  },
  "language_info": {
   "codemirror_mode": {
    "name": "ipython",
    "version": 3
   },
   "file_extension": ".py",
   "mimetype": "text/x-python",
   "name": "python",
   "nbconvert_exporter": "python",
   "pygments_lexer": "ipython3",
   "version": "3.6.0"
  }
 },
 "nbformat": 4,
 "nbformat_minor": 2
}
